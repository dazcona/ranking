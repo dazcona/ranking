{
 "cells": [
  {
   "cell_type": "markdown",
   "id": "07001b2a",
   "metadata": {},
   "source": [
    "# Learn-to-Rank Keras Example"
   ]
  },
  {
   "cell_type": "code",
   "execution_count": 1,
   "id": "b27bb19b",
   "metadata": {},
   "outputs": [],
   "source": [
    "import numpy as np\n",
    "import tensorflow as tf\n",
    "import tensorflow_ranking as tfr\n",
    "import glob"
   ]
  },
  {
   "cell_type": "code",
   "execution_count": 2,
   "id": "b28a6e20",
   "metadata": {},
   "outputs": [
    {
     "data": {
      "text/plain": [
       "'2.5.0'"
      ]
     },
     "execution_count": 2,
     "metadata": {},
     "output_type": "execute_result"
    }
   ],
   "source": [
    "tf.__version__"
   ]
  },
  {
   "cell_type": "code",
   "execution_count": 3,
   "id": "24be00e2",
   "metadata": {},
   "outputs": [
    {
     "data": {
      "text/plain": [
       "'0.4.0.dev'"
      ]
     },
     "execution_count": 3,
     "metadata": {},
     "output_type": "execute_result"
    }
   ],
   "source": [
    "tfr.__version__"
   ]
  },
  {
   "cell_type": "markdown",
   "id": "b421b052",
   "metadata": {},
   "source": [
    "### Keras example\n",
    "\n",
    "https://github.com/tensorflow/ranking/blob/master/tensorflow_ranking/examples/keras/keras_dnn_tfrecord.py"
   ]
  },
  {
   "cell_type": "code",
   "execution_count": 4,
   "id": "360a3305",
   "metadata": {},
   "outputs": [],
   "source": [
    "from typing import Dict, Tuple\n",
    "from absl import app\n",
    "from absl import flags\n",
    "import tensorflow as tf\n",
    "import tensorflow_ranking as tfr"
   ]
  },
  {
   "cell_type": "code",
   "execution_count": 5,
   "id": "696c2b4f",
   "metadata": {},
   "outputs": [],
   "source": [
    "# Arguments\n",
    "num_features = 136\n",
    "\n",
    "# The document relevance label.\n",
    "_LABEL_FEATURE = \"utility\"\n",
    "\n",
    "# Padding labels are set negative so that the corresponding examples can be\n",
    "# ignored in loss and metrics.\n",
    "_PADDING_LABEL = -1\n",
    "_MASK = \"example_list_mask\"\n",
    "\n",
    "def _create_feature_spec() -> Tuple[Dict[str, tf.io.FixedLenFeature], Dict[\n",
    "    str, tf.io.FixedLenFeature], Tuple[str, tf.io.FixedLenFeature]]:\n",
    "    \"\"\"Create context and example feature spec for data parsing.\n",
    "    Returns:\n",
    "    (context feature specs, example feature specs, label spec).\n",
    "    \"\"\"\n",
    "    context_feature_spec = {}\n",
    "    example_feature_spec = {\n",
    "      \"custom_features_{}\".format(i + 1):\n",
    "      tf.io.FixedLenFeature(shape=(1,), dtype=tf.float32, default_value=0.0)\n",
    "      for i in range(0, num_features)\n",
    "    }\n",
    "    label_spec = (_LABEL_FEATURE,\n",
    "                tf.io.FixedLenFeature(\n",
    "                    shape=(1,), dtype=tf.int64, default_value=_PADDING_LABEL))\n",
    "    return context_feature_spec, example_feature_spec, label_spec"
   ]
  },
  {
   "cell_type": "code",
   "execution_count": 6,
   "id": "d2f5f803",
   "metadata": {
    "scrolled": true
   },
   "outputs": [],
   "source": [
    "context_feature_spec, example_feature_spec, label_spec = _create_feature_spec()"
   ]
  },
  {
   "cell_type": "code",
   "execution_count": 7,
   "id": "65b99e53",
   "metadata": {},
   "outputs": [
    {
     "data": {
      "text/plain": [
       "{}"
      ]
     },
     "execution_count": 7,
     "metadata": {},
     "output_type": "execute_result"
    }
   ],
   "source": [
    "context_feature_spec"
   ]
  },
  {
   "cell_type": "code",
   "execution_count": 8,
   "id": "e62a5bbf",
   "metadata": {},
   "outputs": [],
   "source": [
    "# example_feature_spec"
   ]
  },
  {
   "cell_type": "code",
   "execution_count": 9,
   "id": "a16cbe8c",
   "metadata": {},
   "outputs": [
    {
     "data": {
      "text/plain": [
       "FixedLenFeature(shape=(1,), dtype=tf.float32, default_value=0.0)"
      ]
     },
     "execution_count": 9,
     "metadata": {},
     "output_type": "execute_result"
    }
   ],
   "source": [
    "example_feature_spec['custom_features_1']"
   ]
  },
  {
   "cell_type": "code",
   "execution_count": 10,
   "id": "3a9811b6",
   "metadata": {},
   "outputs": [
    {
     "data": {
      "text/plain": [
       "('utility', FixedLenFeature(shape=(1,), dtype=tf.int64, default_value=-1))"
      ]
     },
     "execution_count": 10,
     "metadata": {},
     "output_type": "execute_result"
    }
   ],
   "source": [
    "label_spec"
   ]
  },
  {
   "cell_type": "code",
   "execution_count": 11,
   "id": "ae925ea1",
   "metadata": {},
   "outputs": [],
   "source": [
    "from tensorflow_ranking.python.keras.pipeline import DatasetHparams"
   ]
  },
  {
   "cell_type": "code",
   "execution_count": 12,
   "id": "d1dd01c6",
   "metadata": {},
   "outputs": [],
   "source": [
    "# Arguments\n",
    "train_input_pattern = \"/data/train_numerical_elwc.tfrecord\"\n",
    "valid_input_pattern = \"/data/vali_numerical_elwc.tfrecord\"\n",
    "train_batch_size = 32\n",
    "valid_batch_size = 32\n",
    "list_size = None\n",
    "convert_labels_to_binary = False\n",
    "\n",
    "# Get dataset hyperparams\n",
    "dataset_hparams = tfr.python.keras.pipeline.DatasetHparams(\n",
    "    train_input_pattern=train_input_pattern,\n",
    "    valid_input_pattern=valid_input_pattern,\n",
    "    train_batch_size=train_batch_size,\n",
    "    valid_batch_size=valid_batch_size,\n",
    "    list_size=list_size,\n",
    "    dataset_reader=tf.data.TFRecordDataset,\n",
    "    convert_labels_to_binary=convert_labels_to_binary)"
   ]
  },
  {
   "cell_type": "code",
   "execution_count": 13,
   "id": "2c92f5bf",
   "metadata": {},
   "outputs": [
    {
     "data": {
      "text/plain": [
       "DatasetHparams(train_input_pattern='/data/train_numerical_elwc.tfrecord', valid_input_pattern='/data/vali_numerical_elwc.tfrecord', train_batch_size=32, valid_batch_size=32, list_size=None, valid_list_size=None, dataset_reader=<class 'tensorflow.python.data.ops.readers.TFRecordDatasetV2'>, convert_labels_to_binary=False)"
      ]
     },
     "execution_count": 13,
     "metadata": {},
     "output_type": "execute_result"
    }
   ],
   "source": [
    "dataset_hparams"
   ]
  },
  {
   "cell_type": "code",
   "execution_count": 14,
   "id": "ea64fa14",
   "metadata": {},
   "outputs": [],
   "source": [
    "# dir(dataset_hparams)"
   ]
  },
  {
   "cell_type": "code",
   "execution_count": 15,
   "id": "d9963040",
   "metadata": {},
   "outputs": [],
   "source": [
    "# Arguments\n",
    "model_dir = \"/tmp/output\" # f\"/outputs/tf-ranking-{datetime.now().strftime('%d-%m-%Y-%H-%M-%S')}\"\n",
    "num_epochs = 10\n",
    "num_train_steps = 1000\n",
    "num_valid_steps = 100\n",
    "loss = \"approx_ndcg_loss\"\n",
    "optimizer = \"adagrad\"\n",
    "learning_rate = 0.005\n",
    "steps_per_execution = 10\n",
    "export_best_model = False\n",
    "strategy = \"MirroredStrategy\"\n",
    "\n",
    "pipeline_hparams = tfr.keras.pipeline.PipelineHparams(\n",
    "      model_dir=model_dir,\n",
    "      num_epochs=num_epochs,\n",
    "      steps_per_epoch=(num_train_steps // num_epochs),\n",
    "      validation_steps=num_valid_steps,\n",
    "      loss=loss,\n",
    "      loss_reduction=tf.losses.Reduction.AUTO,\n",
    "      optimizer=optimizer,\n",
    "      learning_rate=learning_rate,\n",
    "      steps_per_execution=steps_per_execution,\n",
    "      export_best_model=export_best_model,\n",
    "      strategy=strategy)"
   ]
  },
  {
   "cell_type": "code",
   "execution_count": 16,
   "id": "26a08378",
   "metadata": {},
   "outputs": [
    {
     "data": {
      "text/plain": [
       "PipelineHparams(model_dir='/tmp/output', num_epochs=10, steps_per_epoch=100, validation_steps=100, learning_rate=0.005, loss='approx_ndcg_loss', loss_reduction='auto', optimizer='adagrad', loss_weights=None, steps_per_execution=10, automatic_reduce_lr=False, use_weighted_metrics=False, export_best_model=False, best_exporter_metric_higher_better=False, best_exporter_metric='loss', strategy='MirroredStrategy', tpu='')"
      ]
     },
     "execution_count": 16,
     "metadata": {},
     "output_type": "execute_result"
    }
   ],
   "source": [
    "pipeline_hparams"
   ]
  },
  {
   "cell_type": "code",
   "execution_count": 17,
   "id": "73b27df0",
   "metadata": {},
   "outputs": [],
   "source": [
    "# Arguments\n",
    "use_log1p = False\n",
    "\n",
    "preprocess_dict = {}\n",
    "if use_log1p:\n",
    "    preprocess_dict = {\n",
    "        fname: lambda t: tf.math.log1p(t * tf.sign(t)) * tf.sign(t)\n",
    "        for fname in example_feature_spec.keys()\n",
    "    }"
   ]
  },
  {
   "cell_type": "code",
   "execution_count": 18,
   "id": "78d7f35a",
   "metadata": {},
   "outputs": [],
   "source": [
    "hidden_layer_dims = \"64,32,16\"\n",
    "use_batch_norm = True\n",
    "batch_norm_moment = 0.99\n",
    "dropout = 0.4\n",
    "\n",
    "dnn_scorer = tfr.keras.model.DNNScorer(\n",
    "    hidden_layer_dims=map(int, hidden_layer_dims.split(\",\")),\n",
    "    output_units=1,\n",
    "    activation=tf.nn.relu,\n",
    "    input_batch_norm=use_batch_norm,\n",
    "    use_batch_norm=use_batch_norm,\n",
    "    batch_norm_moment=batch_norm_moment,\n",
    "    dropout=dropout)"
   ]
  },
  {
   "cell_type": "code",
   "execution_count": 19,
   "id": "7203596a",
   "metadata": {},
   "outputs": [
    {
     "data": {
      "text/plain": [
       "<tensorflow_ranking.python.keras.model.DNNScorer at 0x7fe341164730>"
      ]
     },
     "execution_count": 19,
     "metadata": {},
     "output_type": "execute_result"
    }
   ],
   "source": [
    "dnn_scorer"
   ]
  },
  {
   "cell_type": "code",
   "execution_count": 20,
   "id": "aa94990d",
   "metadata": {},
   "outputs": [],
   "source": [
    "model_builder = tfr.keras.model.ModelBuilder(\n",
    "    input_creator=tfr.keras.model.FeatureSpecInputCreator(\n",
    "      context_feature_spec, \n",
    "        example_feature_spec),\n",
    "    preprocessor=tfr.keras.model.PreprocessorWithSpec(preprocess_dict),\n",
    "    scorer=dnn_scorer,\n",
    "    mask_feature_name=_MASK,\n",
    "    name=\"keras_dnn_model\")"
   ]
  },
  {
   "cell_type": "code",
   "execution_count": 21,
   "id": "1d9ccb1c",
   "metadata": {},
   "outputs": [
    {
     "data": {
      "text/plain": [
       "<tensorflow_ranking.python.keras.model.ModelBuilder at 0x7fe341164fa0>"
      ]
     },
     "execution_count": 21,
     "metadata": {},
     "output_type": "execute_result"
    }
   ],
   "source": [
    "model_builder"
   ]
  },
  {
   "cell_type": "code",
   "execution_count": 22,
   "id": "5621ebcb",
   "metadata": {},
   "outputs": [],
   "source": [
    "# dir(model_builder)"
   ]
  },
  {
   "cell_type": "code",
   "execution_count": 23,
   "id": "b76c451e",
   "metadata": {},
   "outputs": [
    {
     "name": "stdout",
     "output_type": "stream",
     "text": [
      "WARNING:tensorflow:There are non-GPU devices in `tf.distribute.Strategy`, not using nccl allreduce.\n",
      "WARNING:tensorflow:Collective ops is not configured at program startup. Some performance features may not be enabled.\n",
      "INFO:tensorflow:Using MirroredStrategy with devices ('/job:localhost/replica:0/task:0/device:CPU:0',)\n"
     ]
    }
   ],
   "source": [
    "ranking_pipeline = tfr.keras.pipeline.SimplePipeline(\n",
    "    model_builder=model_builder,\n",
    "    dataset_builder=tfr.keras.pipeline.SimpleDatasetBuilder(\n",
    "        context_feature_spec=context_feature_spec,\n",
    "        example_feature_spec=example_feature_spec,\n",
    "        mask_feature_name=_MASK,\n",
    "        label_spec=label_spec,\n",
    "        hparams=dataset_hparams),\n",
    "    hparams=pipeline_hparams)"
   ]
  },
  {
   "cell_type": "code",
   "execution_count": 24,
   "id": "f042ea16",
   "metadata": {
    "scrolled": false
   },
   "outputs": [
    {
     "name": "stdout",
     "output_type": "stream",
     "text": [
      "Epoch 1/10\n",
      "WARNING:tensorflow:From /usr/local/lib/python3.8/site-packages/tensorflow/python/ops/array_ops.py:5043: calling gather (from tensorflow.python.ops.array_ops) with validate_indices is deprecated and will be removed in a future version.\n",
      "Instructions for updating:\n",
      "The `validate_indices` argument has no effect. Indices are always validated on CPU and never validated on GPU.\n"
     ]
    },
    {
     "name": "stderr",
     "output_type": "stream",
     "text": [
      "WARNING:tensorflow:From /usr/local/lib/python3.8/site-packages/tensorflow/python/ops/array_ops.py:5043: calling gather (from tensorflow.python.ops.array_ops) with validate_indices is deprecated and will be removed in a future version.\n",
      "Instructions for updating:\n",
      "The `validate_indices` argument has no effect. Indices are always validated on CPU and never validated on GPU.\n"
     ]
    },
    {
     "name": "stdout",
     "output_type": "stream",
     "text": [
      "100/100 [==============================] - 29s 287ms/step - loss: -0.7261 - metric/ndcg_1: 0.5347 - metric/ndcg_5: 0.6705 - metric/ndcg_10: 0.7346 - metric/ndcg: 0.7346 - val_loss: -0.7841 - val_metric/ndcg_1: 0.7408 - val_metric/ndcg_5: 0.8744 - val_metric/ndcg_10: 0.8978 - val_metric/ndcg: 0.8978\n",
      "Epoch 2/10\n",
      "100/100 [==============================] - 13s 129ms/step - loss: -0.7436 - metric/ndcg_1: 0.5668 - metric/ndcg_5: 0.6923 - metric/ndcg_10: 0.7523 - metric/ndcg: 0.7523 - val_loss: -0.8016 - val_metric/ndcg_1: 0.6299 - val_metric/ndcg_5: 0.8309 - val_metric/ndcg_10: 0.8544 - val_metric/ndcg: 0.8544\n",
      "Epoch 3/10\n",
      "100/100 [==============================] - 9s 92ms/step - loss: -0.7469 - metric/ndcg_1: 0.5967 - metric/ndcg_5: 0.6981 - metric/ndcg_10: 0.7562 - metric/ndcg: 0.7562 - val_loss: -0.7935 - val_metric/ndcg_1: 0.5188 - val_metric/ndcg_5: 0.7914 - val_metric/ndcg_10: 0.8068 - val_metric/ndcg: 0.8068\n",
      "Epoch 4/10\n",
      "100/100 [==============================] - 10s 103ms/step - loss: -0.7566 - metric/ndcg_1: 0.6126 - metric/ndcg_5: 0.7085 - metric/ndcg_10: 0.7642 - metric/ndcg: 0.7642 - val_loss: -0.7821 - val_metric/ndcg_1: 0.5188 - val_metric/ndcg_5: 0.7705 - val_metric/ndcg_10: 0.7943 - val_metric/ndcg: 0.7943\n",
      "Epoch 5/10\n",
      "100/100 [==============================] - 10s 104ms/step - loss: -0.7731 - metric/ndcg_1: 0.6433 - metric/ndcg_5: 0.7272 - metric/ndcg_10: 0.7809 - metric/ndcg: 0.7809 - val_loss: -0.7808 - val_metric/ndcg_1: 0.5188 - val_metric/ndcg_5: 0.7675 - val_metric/ndcg_10: 0.7913 - val_metric/ndcg: 0.7913\n",
      "Epoch 6/10\n",
      "100/100 [==============================] - 10s 101ms/step - loss: -0.7735 - metric/ndcg_1: 0.6575 - metric/ndcg_5: 0.7298 - metric/ndcg_10: 0.7820 - metric/ndcg: 0.7820 - val_loss: -0.7816 - val_metric/ndcg_1: 0.5188 - val_metric/ndcg_5: 0.7675 - val_metric/ndcg_10: 0.7913 - val_metric/ndcg: 0.7913\n",
      "Epoch 7/10\n",
      "100/100 [==============================] - 13s 126ms/step - loss: -0.7835 - metric/ndcg_1: 0.6856 - metric/ndcg_5: 0.7432 - metric/ndcg_10: 0.7919 - metric/ndcg: 0.7919 - val_loss: -0.7851 - val_metric/ndcg_1: 0.5188 - val_metric/ndcg_5: 0.7707 - val_metric/ndcg_10: 0.7945 - val_metric/ndcg: 0.7945\n",
      "Epoch 8/10\n",
      "100/100 [==============================] - 11s 109ms/step - loss: -0.7890 - metric/ndcg_1: 0.7031 - metric/ndcg_5: 0.7504 - metric/ndcg_10: 0.7972 - metric/ndcg: 0.7972 - val_loss: -0.7845 - val_metric/ndcg_1: 0.5558 - val_metric/ndcg_5: 0.7790 - val_metric/ndcg_10: 0.8028 - val_metric/ndcg: 0.8028\n",
      "Epoch 9/10\n",
      "100/100 [==============================] - 12s 117ms/step - loss: -0.8019 - metric/ndcg_1: 0.7266 - metric/ndcg_5: 0.7640 - metric/ndcg_10: 0.8098 - metric/ndcg: 0.8098 - val_loss: -0.7848 - val_metric/ndcg_1: 0.5558 - val_metric/ndcg_5: 0.7790 - val_metric/ndcg_10: 0.8032 - val_metric/ndcg: 0.8032\n",
      "Epoch 10/10\n",
      "100/100 [==============================] - 10s 97ms/step - loss: -0.7949 - metric/ndcg_1: 0.7230 - metric/ndcg_5: 0.7574 - metric/ndcg_10: 0.8026 - metric/ndcg: 0.8026 - val_loss: -0.7845 - val_metric/ndcg_1: 0.5189 - val_metric/ndcg_5: 0.7701 - val_metric/ndcg_10: 0.7938 - val_metric/ndcg: 0.7938\n",
      "INFO:tensorflow:Assets written to: /tmp/output/export/latest_model/assets\n"
     ]
    },
    {
     "name": "stderr",
     "output_type": "stream",
     "text": [
      "INFO:tensorflow:Assets written to: /tmp/output/export/latest_model/assets\n"
     ]
    }
   ],
   "source": [
    "ranking_pipeline.train_and_validate(verbose=1)"
   ]
  },
  {
   "cell_type": "code",
   "execution_count": null,
   "id": "42736cd8",
   "metadata": {},
   "outputs": [],
   "source": []
  }
 ],
 "metadata": {
  "kernelspec": {
   "display_name": "Python 3",
   "language": "python",
   "name": "python3"
  },
  "language_info": {
   "codemirror_mode": {
    "name": "ipython",
    "version": 3
   },
   "file_extension": ".py",
   "mimetype": "text/x-python",
   "name": "python",
   "nbconvert_exporter": "python",
   "pygments_lexer": "ipython3",
   "version": "3.8.6"
  }
 },
 "nbformat": 4,
 "nbformat_minor": 5
}
