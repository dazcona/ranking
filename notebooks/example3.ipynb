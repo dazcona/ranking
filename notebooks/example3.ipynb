{
 "cells": [
  {
   "cell_type": "markdown",
   "id": "ca9481ad",
   "metadata": {},
   "source": [
    "# Write TFRecods"
   ]
  },
  {
   "cell_type": "code",
   "execution_count": 47,
   "id": "b27bb19b",
   "metadata": {},
   "outputs": [],
   "source": [
    "import numpy as np\n",
    "import tensorflow as tf\n",
    "import tensorflow_ranking as tfr\n",
    "import glob\n",
    "from datetime import datetime\n",
    "import random"
   ]
  },
  {
   "cell_type": "code",
   "execution_count": 48,
   "id": "8e8bde5f",
   "metadata": {},
   "outputs": [],
   "source": [
    "# Random\n",
    "random.seed(42)\n",
    "\n",
    "# Python\n",
    "os.environ['PYTHONHASHSEED'] = str(42)\n",
    "\n",
    "# Numpy\n",
    "np.random.seed(42)"
   ]
  },
  {
   "cell_type": "code",
   "execution_count": 4,
   "id": "b28a6e20",
   "metadata": {},
   "outputs": [
    {
     "data": {
      "text/plain": [
       "'2.5.0'"
      ]
     },
     "execution_count": 4,
     "metadata": {},
     "output_type": "execute_result"
    }
   ],
   "source": [
    "tf.__version__"
   ]
  },
  {
   "cell_type": "code",
   "execution_count": 5,
   "id": "24be00e2",
   "metadata": {},
   "outputs": [
    {
     "data": {
      "text/plain": [
       "'0.4.0.dev'"
      ]
     },
     "execution_count": 5,
     "metadata": {},
     "output_type": "execute_result"
    }
   ],
   "source": [
    "tfr.__version__"
   ]
  },
  {
   "cell_type": "markdown",
   "id": "bb783ece",
   "metadata": {},
   "source": [
    "### TensorFlow Ranking dataset_reader example\n",
    "\n",
    "**tfr.keras.pipeline.DatasetHparams.dataset_reader**: https://github.com/tensorflow/ranking/blob/master/tensorflow_ranking/g3doc/api_docs/python/tfr/keras/pipeline/DatasetHparams/dataset_reader.md"
   ]
  },
  {
   "cell_type": "code",
   "execution_count": 112,
   "id": "8881b554",
   "metadata": {},
   "outputs": [
    {
     "name": "stdout",
     "output_type": "stream",
     "text": [
      "/tmp/example.tfrecords\n"
     ]
    }
   ],
   "source": [
    "import os\n",
    "import tempfile\n",
    "\n",
    "example_path = os.path.join(tempfile.gettempdir(), \"example.tfrecords\")\n",
    "print(example_path)"
   ]
  },
  {
   "cell_type": "code",
   "execution_count": 127,
   "id": "1115b992",
   "metadata": {},
   "outputs": [],
   "source": [
    "# Write the records to a file.\n",
    "with tf.io.TFRecordWriter(example_path) as file_writer:\n",
    "    for _ in range(4):\n",
    "        x, y = np.random.random(), np.random.random()\n",
    "        record_bytes = tf.train.Example(features=tf.train.Features(feature={\n",
    "            \"x\": tf.train.Feature(float_list=tf.train.FloatList(value=[x])),\n",
    "            \"y\": tf.train.Feature(float_list=tf.train.FloatList(value=[y])),\n",
    "        })).SerializeToString()\n",
    "        file_writer.write(record_bytes)"
   ]
  },
  {
   "cell_type": "code",
   "execution_count": 128,
   "id": "386547ef",
   "metadata": {},
   "outputs": [
    {
     "name": "stdout",
     "output_type": "stream",
     "text": [
      "-rw-r--r-- 1 root root 192 Jun 23 10:01 /tmp/example.tfrecords\r\n"
     ]
    }
   ],
   "source": [
    "!ls -l \"$example_path\""
   ]
  },
  {
   "cell_type": "code",
   "execution_count": 129,
   "id": "630e79df",
   "metadata": {},
   "outputs": [],
   "source": [
    "# Read the data back out.\n",
    "def decode_fn(record_bytes):\n",
    "    return tf.io.parse_single_example(\n",
    "        # Data\n",
    "        record_bytes,\n",
    "        # Schema\n",
    "        {\n",
    "            \"x\": tf.io.FixedLenFeature([], dtype=tf.float32),\n",
    "            \"y\": tf.io.FixedLenFeature([], dtype=tf.float32)\n",
    "        }\n",
    "    )"
   ]
  },
  {
   "cell_type": "code",
   "execution_count": 130,
   "id": "16dce17e",
   "metadata": {},
   "outputs": [
    {
     "name": "stdout",
     "output_type": "stream",
     "text": [
      "x = 0.4561,  y = 0.7852\n",
      "x = 0.1997,  y = 0.5142\n",
      "x = 0.5924,  y = 0.0465\n",
      "x = 0.6075,  y = 0.1705\n"
     ]
    }
   ],
   "source": [
    "for batch in tf.data.TFRecordDataset([example_path]).map(decode_fn):\n",
    "    print(\"x = {x:.4f},  y = {y:.4f}\".format(**batch))"
   ]
  },
  {
   "cell_type": "markdown",
   "id": "0c328ee8",
   "metadata": {},
   "source": [
    "### My own example"
   ]
  },
  {
   "cell_type": "code",
   "execution_count": 89,
   "id": "bc58b837",
   "metadata": {},
   "outputs": [],
   "source": [
    "filename = \"/data/example.txt\""
   ]
  },
  {
   "cell_type": "code",
   "execution_count": 90,
   "id": "033689ba",
   "metadata": {},
   "outputs": [],
   "source": [
    "text = \"\"\"1 qid:10 32:0.14 48:0.97 51:0.45\n",
    "0 qid:10 1:0.15 31:0.75 32:0.24 49:0.6\n",
    "2 qid:10 1:0.71 2:0.36 31:0.58 51:0.12\n",
    "0 qid:20 4:0.79 31:0.01 33:0.05 35:0.27\n",
    "3 qid:20 1:0.42 28:0.79 35:0.30 42:0.76\"\"\"\n",
    "\n",
    "with open(filename, 'w') as f:\n",
    "    f.write(text)"
   ]
  },
  {
   "cell_type": "code",
   "execution_count": 91,
   "id": "4a36598f",
   "metadata": {},
   "outputs": [
    {
     "name": "stdout",
     "output_type": "stream",
     "text": [
      "1 qid:10 32:0.14 48:0.97 51:0.45\r\n",
      "0 qid:10 1:0.15 31:0.75 32:0.24 49:0.6\r\n",
      "2 qid:10 1:0.71 2:0.36 31:0.58 51:0.12\r\n",
      "0 qid:20 4:0.79 31:0.01 33:0.05 35:0.27\r\n",
      "3 qid:20 1:0.42 28:0.79 35:0.30 42:0.76"
     ]
    }
   ],
   "source": [
    "!cat \"$filename\""
   ]
  },
  {
   "cell_type": "code",
   "execution_count": 92,
   "id": "a598199c",
   "metadata": {},
   "outputs": [
    {
     "name": "stdout",
     "output_type": "stream",
     "text": [
      "/data/example.tfrecords\n"
     ]
    }
   ],
   "source": [
    "example_path = \"/data/example.tfrecords\"\n",
    "print(example_path)"
   ]
  },
  {
   "cell_type": "code",
   "execution_count": 96,
   "id": "80142039",
   "metadata": {},
   "outputs": [],
   "source": [
    "with open(filename) as f:\n",
    "    lines = [ line.strip() for line in f.readlines() ]"
   ]
  },
  {
   "cell_type": "code",
   "execution_count": 97,
   "id": "25afb29e",
   "metadata": {},
   "outputs": [
    {
     "data": {
      "text/plain": [
       "['1 qid:10 32:0.14 48:0.97 51:0.45',\n",
       " '0 qid:10 1:0.15 31:0.75 32:0.24 49:0.6',\n",
       " '2 qid:10 1:0.71 2:0.36 31:0.58 51:0.12',\n",
       " '0 qid:20 4:0.79 31:0.01 33:0.05 35:0.27',\n",
       " '3 qid:20 1:0.42 28:0.79 35:0.30 42:0.76']"
      ]
     },
     "execution_count": 97,
     "metadata": {},
     "output_type": "execute_result"
    }
   ],
   "source": [
    "lines"
   ]
  },
  {
   "cell_type": "code",
   "execution_count": 134,
   "id": "cee46383",
   "metadata": {},
   "outputs": [],
   "source": [
    "# Arguments\n",
    "num_features = 136\n",
    "\n",
    "with tf.io.TFRecordWriter(example_path) as file_writer:\n",
    "\n",
    "    with open(filename) as f:\n",
    "\n",
    "        for line in f.readlines():\n",
    "\n",
    "            # Read LibSVM line\n",
    "            tokens = line.strip().split()\n",
    "            label = int(tokens[0])\n",
    "            qid = int(tokens[1].split(':')[1])\n",
    "            kv_pairs = [ kv.split(\":\") for kv in tokens[2:] ]\n",
    "            sparse_features = { int(k): float(v) for (k, v) in kv_pairs }\n",
    "            \n",
    "            # Create default values for sparse vector\n",
    "            feature = {\n",
    "                f\"custom_features_{i}\": tf.train.Feature(float_list=tf.train.FloatList(value=[0.0]))\n",
    "                for i in range(1, num_features + 1)\n",
    "            }\n",
    "            # Apply non-zero values from sparse features\n",
    "            for k, v in sparse_features.items():\n",
    "                feature[f\"custom_features_{k}\"] = tf.train.Feature(float_list=tf.train.FloatList(value=[v]))\n",
    "            # Add label\n",
    "            feature[\"label\"] = tf.train.Feature(int64_list=tf.train.Int64List(value=[label]))\n",
    "            feature[\"qid\"] = tf.train.Feature(int64_list=tf.train.Int64List(value=[qid]))\n",
    "\n",
    "            record_bytes = tf.train.Example(\n",
    "                features=tf.train.Features(\n",
    "                    feature=feature\n",
    "                )).SerializeToString()\n",
    "            file_writer.write(record_bytes)"
   ]
  },
  {
   "cell_type": "code",
   "execution_count": 137,
   "id": "6c9e085a",
   "metadata": {},
   "outputs": [],
   "source": [
    "schema = {\n",
    "    f\"custom_features_{i}\": tf.io.FixedLenFeature([], dtype=tf.float32)\n",
    "    for i in range(1, num_features + 1)\n",
    "}\n",
    "schema[\"label\"] = tf.io.FixedLenFeature([], dtype=tf.int64)\n",
    "schema[\"qid\"] = tf.io.FixedLenFeature([], dtype=tf.int64)\n",
    "\n",
    "# Read the data back out.\n",
    "def decode_fn(record_bytes):\n",
    "    return tf.io.parse_single_example(\n",
    "        # Data\n",
    "        record_bytes,\n",
    "        # Schema\n",
    "        schema\n",
    "    )"
   ]
  },
  {
   "cell_type": "code",
   "execution_count": 142,
   "id": "95ec2841",
   "metadata": {},
   "outputs": [
    {
     "name": "stdout",
     "output_type": "stream",
     "text": [
      "label = 1,  qid = 10,  custom_features_1 = 0.0000\n",
      "label = 0,  qid = 10,  custom_features_1 = 0.1500\n",
      "label = 2,  qid = 10,  custom_features_1 = 0.7100\n",
      "label = 0,  qid = 20,  custom_features_1 = 0.0000\n",
      "label = 3,  qid = 20,  custom_features_1 = 0.4200\n"
     ]
    }
   ],
   "source": [
    "for batch in tf.data.TFRecordDataset([example_path]).map(decode_fn):\n",
    "    print(\"label = {label},  qid = {qid},  custom_features_1 = {custom_features_1:.4f}\".format(**batch))"
   ]
  },
  {
   "cell_type": "markdown",
   "id": "b421b052",
   "metadata": {},
   "source": [
    "### TensorFlow Ranking Keras example\n",
    "\n",
    "https://github.com/tensorflow/ranking/blob/master/tensorflow_ranking/examples/keras/keras_dnn_tfrecord.py"
   ]
  },
  {
   "cell_type": "code",
   "execution_count": 143,
   "id": "0253f33f",
   "metadata": {},
   "outputs": [],
   "source": [
    "test_records = \"/data/test_numerical_elwc.tfrecord\""
   ]
  },
  {
   "cell_type": "code",
   "execution_count": 144,
   "id": "8954290a",
   "metadata": {},
   "outputs": [
    {
     "name": "stdout",
     "output_type": "stream",
     "text": [
      "-rw-r--r-- 1 root root 21788 Jun  8 12:21 /data/test_numerical_elwc.tfrecord\r\n"
     ]
    }
   ],
   "source": [
    "!ls -l \"$test_records\""
   ]
  },
  {
   "cell_type": "code",
   "execution_count": 145,
   "id": "8ce1ab7d",
   "metadata": {},
   "outputs": [
    {
     "name": "stdout",
     "output_type": "stream",
     "text": [
      "tf.Tensor(b'\\n\\xf5\\x03\\n\\xf2\\x03\\n\\x1e\\n\\x12custom_features_77\\x12\\x08\\x12\\x06\\n\\x04;:\\x02\\xbf\\n\\x1e\\n\\x12custom_features_54\\x12\\x08\\x12\\x06\\n\\x04%Z\\x82>\\n\\x1e\\n\\x12custom_features_37\\x12\\x08\\x12\\x06\\n\\x04\\xe7\\x8bI?\\n\\x10\\n\\x07utility\\x12\\x05\\x1a\\x03\\n\\x01\\x01\\n\\x1d\\n\\x11custom_features_2\\x12\\x08\\x12\\x06\\n\\x04\\xee\\x08\\xff>\\n\\x1e\\n\\x12custom_features_90\\x12\\x08\\x12\\x06\\n\\x04c\\x9bd\\xbe\\n\\x1f\\n\\x13custom_features_131\\x12\\x08\\x12\\x06\\n\\x04\\x02,.?\\n\\x1e\\n\\x12custom_features_46\\x12\\x08\\x12\\x06\\n\\x041\\xee\\x1a\\xbf\\n\\x1d\\n\\x11custom_features_7\\x12\\x08\\x12\\x06\\n\\x04K\\xe9i>\\n\\x1e\\n\\x12custom_features_43\\x12\\x08\\x12\\x06\\n\\x04Y\\xdc\\xcf>\\n\\x1e\\n\\x12custom_features_40\\x12\\x08\\x12\\x06\\n\\x04j1\\xd8\\xbd\\n\\x1e\\n\\x12custom_features_82\\x12\\x08\\x12\\x06\\n\\x04\\xa1j`\\xbf\\n\\x1e\\n\\x12custom_features_61\\x12\\x08\\x12\\x06\\n\\x04\\xad\\xc3a>\\n\\x1e\\n\\x12custom_features_93\\x12\\x08\\x12\\x06\\n\\x04\\xaa\\xee\\x91\\xbe\\n\\x1e\\n\\x12custom_features_81\\x12\\x08\\x12\\x06\\n\\x04\\xfaE\\xe9\\xbe\\n\\x1f\\n\\x13custom_features_107\\x12\\x08\\x12\\x06\\n\\x04b\\xf7\\xdd=\\n\\xd7\\x04\\n\\xd4\\x04\\n\\x1e\\n\\x12custom_features_39\\x12\\x08\\x12\\x06\\n\\x04\\x8e\\x94\\xc5\\xbe\\n\\x1e\\n\\x12custom_features_82\\x12\\x08\\x12\\x06\\n\\x04\\x0c>e\\xbf\\n\\x1f\\n\\x13custom_features_132\\x12\\x08\\x12\\x06\\n\\x04\\x9d\\x82,>\\n\\x1e\\n\\x12custom_features_21\\x12\\x08\\x12\\x06\\n\\x04\\xa5\\xc0\\x12?\\n\\x1f\\n\\x13custom_features_109\\x12\\x08\\x12\\x06\\n\\x04\\x18!l>\\n\\x1f\\n\\x13custom_features_103\\x12\\x08\\x12\\x06\\n\\x04\\x1b\\xa0\\xd4=\\n\\x1e\\n\\x12custom_features_67\\x12\\x08\\x12\\x06\\n\\x04,D\\xef>\\n\\x1e\\n\\x12custom_features_54\\x12\\x08\\x12\\x06\\n\\x04\\xbb\\x9d\\xfd>\\n\\x1e\\n\\x12custom_features_85\\x12\\x08\\x12\\x06\\n\\x04\\xa2\\xcf\\xef>\\n\\x10\\n\\x07utility\\x12\\x05\\x1a\\x03\\n\\x01\\x02\\n\\x1f\\n\\x13custom_features_126\\x12\\x08\\x12\\x06\\n\\x04h^>\\xbe\\n\\x1e\\n\\x12custom_features_12\\x12\\x08\\x12\\x06\\n\\x04\\x08:J?\\n\\x1d\\n\\x11custom_features_8\\x12\\x08\\x12\\x06\\n\\x04VJk?\\n\\x1e\\n\\x12custom_features_62\\x12\\x08\\x12\\x06\\n\\x04\\xd5\\xed\\x10?\\n\\x1e\\n\\x12custom_features_29\\x12\\x08\\x12\\x06\\n\\x04UQ,\\xbe\\n\\x1e\\n\\x12custom_features_80\\x12\\x08\\x12\\x06\\n\\x04\\xdd?\\xd6\\xbd\\n\\x1d\\n\\x11custom_features_1\\x12\\x08\\x12\\x06\\n\\x043\\xfd\\xea>\\n\\x1e\\n\\x12custom_features_57\\x12\\x08\\x12\\x06\\n\\x04\\xb4\\xaf\\x0c\\xbe\\n\\x1e\\n\\x12custom_features_15\\x12\\x08\\x12\\x06\\n\\x04\\xc1\\x02$?\\n\\x97\\x04\\n\\x94\\x04\\n\\x1d\\n\\x11custom_features_4\\x12\\x08\\x12\\x06\\n\\x04\\xc1\\xfd`>\\n\\x1f\\n\\x13custom_features_108\\x12\\x08\\x12\\x06\\n\\x04\\xe8\\xbc\"?\\n\\x1e\\n\\x12custom_features_11\\x12\\x08\\x12\\x06\\n\\x04$FS\\xbf\\n\\x1e\\n\\x12custom_features_92\\x12\\x08\\x12\\x06\\n\\x04\\x87M$\\xbd\\n\\x1e\\n\\x12custom_features_53\\x12\\x08\\x12\\x06\\n\\x04\\t\\xfd\\x08\\xbf\\n\\x1f\\n\\x13custom_features_111\\x12\\x08\\x12\\x06\\n\\x04\\xa4\\xc1m\\xbd\\n\\x1e\\n\\x12custom_features_16\\x12\\x08\\x12\\x06\\n\\x04\\xcca\\x87>\\n\\x1f\\n\\x13custom_features_104\\x12\\x08\\x12\\x06\\n\\x04g\\xedF>\\n\\x1e\\n\\x12custom_features_59\\x12\\x08\\x12\\x06\\n\\x04\\x8d\\xd1J\\xbf\\n\\x1e\\n\\x12custom_features_31\\x12\\x08\\x12\\x06\\n\\x04DM\\x14>\\n\\x10\\n\\x07utility\\x12\\x05\\x1a\\x03\\n\\x01\\x00\\n\\x1e\\n\\x12custom_features_76\\x12\\x08\\x12\\x06\\n\\x04\\xea${?\\n\\x1e\\n\\x12custom_features_90\\x12\\x08\\x12\\x06\\n\\x04\\xd9\\xd1H>\\n\\x1e\\n\\x12custom_features_63\\x12\\x08\\x12\\x06\\n\\x04d\\\\\\xb1\\xbe\\n\\x1e\\n\\x12custom_features_15\\x12\\x08\\x12\\x06\\n\\x04X;\\n\\xbf\\n\\x1e\\n\\x12custom_features_25\\x12\\x08\\x12\\x06\\n\\x04rP\\x02\\xbf\\n\\x1e\\n\\x12custom_features_74\\x12\\x08\\x12\\x06\\n\\x04\\xe1@\\xc0>\\n\\xbd\\x04\\n\\xba\\x04\\n\\x1f\\n\\x13custom_features_109\\x12\\x08\\x12\\x06\\n\\x04\\x13|\\xdb>\\n\\x1f\\n\\x13custom_features_100\\x12\\x08\\x12\\x06\\n\\x04\\x16\\xa18?\\n\\x1e\\n\\x12custom_features_93\\x12\\x08\\x12\\x06\\n\\x04Z\\x0f\\xc7>\\n\\x1e\\n\\x12custom_features_19\\x12\\x08\\x12\\x06\\n\\x04\\xda\\x8c\\x13?\\n\\x1f\\n\\x13custom_features_104\\x12\\x08\\x12\\x06\\n\\x04\\x048->\\n\\x1e\\n\\x12custom_features_36\\x12\\x08\\x12\\x06\\n\\x04\\xcd=\\xa4\\xbe\\n\\x10\\n\\x07utility\\x12\\x05\\x1a\\x03\\n\\x01\\x00\\n\\x1e\\n\\x12custom_features_14\\x12\\x08\\x12\\x06\\n\\x04\\xe8\\xf62\\xbf\\n\\x1f\\n\\x13custom_features_126\\x12\\x08\\x12\\x06\\n\\x04]\\xc1F\\xbe\\n\\x1f\\n\\x13custom_features_110\\x12\\x08\\x12\\x06\\n\\x04\\xcb\\x9eX?\\n\\x1e\\n\\x12custom_features_63\\x12\\x08\\x12\\x06\\n\\x04\\x9b7>>\\n\\x1f\\n\\x13custom_features_114\\x12\\x08\\x12\\x06\\n\\x04F\\x9ax=\\n\\x1e\\n\\x12custom_features_51\\x12\\x08\\x12\\x06\\n\\x04\\xfe\\x9d\\x8d>\\n\\x1e\\n\\x12custom_features_33\\x12\\x08\\x12\\x06\\n\\x04\\x87Sr\\xbf\\n\\x1e\\n\\x12custom_features_94\\x12\\x08\\x12\\x06\\n\\x04R~6\\xbf\\n\\x1f\\n\\x13custom_features_108\\x12\\x08\\x12\\x06\\n\\x04D\\xbe\\xcb\\xbe\\n\\x1e\\n\\x12custom_features_20\\x12\\x08\\x12\\x06\\n\\x04\\x80\\x7fJ\\xbf\\n\\x1f\\n\\x13custom_features_112\\x12\\x08\\x12\\x06\\n\\x04e\\x1c#\\xbf', shape=(), dtype=string)\n"
     ]
    }
   ],
   "source": [
    "for batch in tf.data.TFRecordDataset(val_records).take(1):\n",
    "    print(batch)"
   ]
  },
  {
   "cell_type": "code",
   "execution_count": 146,
   "id": "8c8c98f1",
   "metadata": {},
   "outputs": [],
   "source": [
    "# Arguments\n",
    "num_features = 136\n",
    "\n",
    "# The document relevance label.\n",
    "_LABEL_FEATURE = \"utility\"\n",
    "\n",
    "# Padding labels are set negative so that the corresponding examples can be\n",
    "# ignored in loss and metrics.\n",
    "_PADDING_LABEL = -1\n",
    "_MASK = \"example_list_mask\"\n",
    "\n",
    "# Read the data back out.\n",
    "def decode_fn(record_bytes):\n",
    "    \n",
    "    schema = {\n",
    "        f\"custom_features_{i}\": tf.io.FixedLenFeature(shape=(1,), dtype=tf.float32, default_value=0.0)\n",
    "        for i in range(1, num_features + 1)\n",
    "    }\n",
    "    schema[_LABEL_FEATURE] = tf.io.FixedLenFeature(shape=(1,), dtype=tf.int64, default_value=_PADDING_LABEL)\n",
    "    \n",
    "    return tf.io.parse_single_example(\n",
    "        # Data\n",
    "        record_bytes,\n",
    "        # Schema\n",
    "        schema\n",
    "    )"
   ]
  },
  {
   "cell_type": "code",
   "execution_count": 147,
   "id": "2409dcba",
   "metadata": {
    "scrolled": true
   },
   "outputs": [
    {
     "ename": "UnicodeDecodeError",
     "evalue": "'utf-8' codec can't decode byte 0xf5 in position 40: invalid start byte",
     "output_type": "error",
     "traceback": [
      "\u001b[0;31m---------------------------------------------------------------------------\u001b[0m",
      "\u001b[0;31mUnicodeDecodeError\u001b[0m                        Traceback (most recent call last)",
      "\u001b[0;32m<ipython-input-147-ffc9af2743cd>\u001b[0m in \u001b[0;36m<module>\u001b[0;34m\u001b[0m\n\u001b[0;32m----> 1\u001b[0;31m \u001b[0;32mfor\u001b[0m \u001b[0mbatch\u001b[0m \u001b[0;32min\u001b[0m \u001b[0mtf\u001b[0m\u001b[0;34m.\u001b[0m\u001b[0mdata\u001b[0m\u001b[0;34m.\u001b[0m\u001b[0mTFRecordDataset\u001b[0m\u001b[0;34m(\u001b[0m\u001b[0;34m[\u001b[0m\u001b[0mval_records\u001b[0m\u001b[0;34m]\u001b[0m\u001b[0;34m)\u001b[0m\u001b[0;34m.\u001b[0m\u001b[0mmap\u001b[0m\u001b[0;34m(\u001b[0m\u001b[0mdecode_fn\u001b[0m\u001b[0;34m)\u001b[0m\u001b[0;34m:\u001b[0m\u001b[0;34m\u001b[0m\u001b[0;34m\u001b[0m\u001b[0m\n\u001b[0m\u001b[1;32m      2\u001b[0m     \u001b[0mprint\u001b[0m\u001b[0;34m(\u001b[0m\u001b[0mbatch\u001b[0m\u001b[0;34m)\u001b[0m\u001b[0;34m\u001b[0m\u001b[0;34m\u001b[0m\u001b[0m\n\u001b[1;32m      3\u001b[0m     \u001b[0;31m#print(\"x = {x:.4f},  y = {y:.4f}\".format(**batch))\u001b[0m\u001b[0;34m\u001b[0m\u001b[0;34m\u001b[0m\u001b[0;34m\u001b[0m\u001b[0m\n",
      "\u001b[0;32m/usr/local/lib/python3.8/site-packages/tensorflow/python/data/ops/iterator_ops.py\u001b[0m in \u001b[0;36m__next__\u001b[0;34m(self)\u001b[0m\n\u001b[1;32m    759\u001b[0m   \u001b[0;32mdef\u001b[0m \u001b[0m__next__\u001b[0m\u001b[0;34m(\u001b[0m\u001b[0mself\u001b[0m\u001b[0;34m)\u001b[0m\u001b[0;34m:\u001b[0m\u001b[0;34m\u001b[0m\u001b[0;34m\u001b[0m\u001b[0m\n\u001b[1;32m    760\u001b[0m     \u001b[0;32mtry\u001b[0m\u001b[0;34m:\u001b[0m\u001b[0;34m\u001b[0m\u001b[0;34m\u001b[0m\u001b[0m\n\u001b[0;32m--> 761\u001b[0;31m       \u001b[0;32mreturn\u001b[0m \u001b[0mself\u001b[0m\u001b[0;34m.\u001b[0m\u001b[0m_next_internal\u001b[0m\u001b[0;34m(\u001b[0m\u001b[0;34m)\u001b[0m\u001b[0;34m\u001b[0m\u001b[0;34m\u001b[0m\u001b[0m\n\u001b[0m\u001b[1;32m    762\u001b[0m     \u001b[0;32mexcept\u001b[0m \u001b[0merrors\u001b[0m\u001b[0;34m.\u001b[0m\u001b[0mOutOfRangeError\u001b[0m\u001b[0;34m:\u001b[0m\u001b[0;34m\u001b[0m\u001b[0;34m\u001b[0m\u001b[0m\n\u001b[1;32m    763\u001b[0m       \u001b[0;32mraise\u001b[0m \u001b[0mStopIteration\u001b[0m\u001b[0;34m\u001b[0m\u001b[0;34m\u001b[0m\u001b[0m\n",
      "\u001b[0;32m/usr/local/lib/python3.8/site-packages/tensorflow/python/data/ops/iterator_ops.py\u001b[0m in \u001b[0;36m_next_internal\u001b[0;34m(self)\u001b[0m\n\u001b[1;32m    742\u001b[0m     \u001b[0;31m# to communicate that there is no more data to iterate over.\u001b[0m\u001b[0;34m\u001b[0m\u001b[0;34m\u001b[0m\u001b[0;34m\u001b[0m\u001b[0m\n\u001b[1;32m    743\u001b[0m     \u001b[0;32mwith\u001b[0m \u001b[0mcontext\u001b[0m\u001b[0;34m.\u001b[0m\u001b[0mexecution_mode\u001b[0m\u001b[0;34m(\u001b[0m\u001b[0mcontext\u001b[0m\u001b[0;34m.\u001b[0m\u001b[0mSYNC\u001b[0m\u001b[0;34m)\u001b[0m\u001b[0;34m:\u001b[0m\u001b[0;34m\u001b[0m\u001b[0;34m\u001b[0m\u001b[0m\n\u001b[0;32m--> 744\u001b[0;31m       ret = gen_dataset_ops.iterator_get_next(\n\u001b[0m\u001b[1;32m    745\u001b[0m           \u001b[0mself\u001b[0m\u001b[0;34m.\u001b[0m\u001b[0m_iterator_resource\u001b[0m\u001b[0;34m,\u001b[0m\u001b[0;34m\u001b[0m\u001b[0;34m\u001b[0m\u001b[0m\n\u001b[1;32m    746\u001b[0m           \u001b[0moutput_types\u001b[0m\u001b[0;34m=\u001b[0m\u001b[0mself\u001b[0m\u001b[0;34m.\u001b[0m\u001b[0m_flat_output_types\u001b[0m\u001b[0;34m,\u001b[0m\u001b[0;34m\u001b[0m\u001b[0;34m\u001b[0m\u001b[0m\n",
      "\u001b[0;32m/usr/local/lib/python3.8/site-packages/tensorflow/python/ops/gen_dataset_ops.py\u001b[0m in \u001b[0;36miterator_get_next\u001b[0;34m(iterator, output_types, output_shapes, name)\u001b[0m\n\u001b[1;32m   2721\u001b[0m   \u001b[0;32mif\u001b[0m \u001b[0mtld\u001b[0m\u001b[0;34m.\u001b[0m\u001b[0mis_eager\u001b[0m\u001b[0;34m:\u001b[0m\u001b[0;34m\u001b[0m\u001b[0;34m\u001b[0m\u001b[0m\n\u001b[1;32m   2722\u001b[0m     \u001b[0;32mtry\u001b[0m\u001b[0;34m:\u001b[0m\u001b[0;34m\u001b[0m\u001b[0;34m\u001b[0m\u001b[0m\n\u001b[0;32m-> 2723\u001b[0;31m       _result = pywrap_tfe.TFE_Py_FastPathExecute(\n\u001b[0m\u001b[1;32m   2724\u001b[0m         \u001b[0m_ctx\u001b[0m\u001b[0;34m,\u001b[0m \u001b[0;34m\"IteratorGetNext\"\u001b[0m\u001b[0;34m,\u001b[0m \u001b[0mname\u001b[0m\u001b[0;34m,\u001b[0m \u001b[0miterator\u001b[0m\u001b[0;34m,\u001b[0m \u001b[0;34m\"output_types\"\u001b[0m\u001b[0;34m,\u001b[0m \u001b[0moutput_types\u001b[0m\u001b[0;34m,\u001b[0m\u001b[0;34m\u001b[0m\u001b[0;34m\u001b[0m\u001b[0m\n\u001b[1;32m   2725\u001b[0m         \"output_shapes\", output_shapes)\n",
      "\u001b[0;31mUnicodeDecodeError\u001b[0m: 'utf-8' codec can't decode byte 0xf5 in position 40: invalid start byte"
     ]
    }
   ],
   "source": [
    "for batch in tf.data.TFRecordDataset([val_records]).map(decode_fn):\n",
    "    print(batch)\n",
    "    #print(\"x = {x:.4f},  y = {y:.4f}\".format(**batch))"
   ]
  }
 ],
 "metadata": {
  "kernelspec": {
   "display_name": "Python 3",
   "language": "python",
   "name": "python3"
  },
  "language_info": {
   "codemirror_mode": {
    "name": "ipython",
    "version": 3
   },
   "file_extension": ".py",
   "mimetype": "text/x-python",
   "name": "python",
   "nbconvert_exporter": "python",
   "pygments_lexer": "ipython3",
   "version": "3.8.6"
  }
 },
 "nbformat": 4,
 "nbformat_minor": 5
}
